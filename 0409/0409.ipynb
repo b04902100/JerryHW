{
 "cells": [
  {
   "cell_type": "markdown",
   "metadata": {},
   "source": [
    "# Q1: Ice Cream Stand"
   ]
  },
  {
   "cell_type": "code",
   "execution_count": 1,
   "metadata": {
    "collapsed": true
   },
   "outputs": [],
   "source": [
    "class Restaurant():\n",
    "    def __init__(self, name, cooking):\n",
    "        self.name = name\n",
    "        self.cooking = cooking\n",
    "    def describe_restaurant(self):\n",
    "        print(\"餐廳名稱: \"+self.name+'\\n烹飪方式: '+self.cooking)\n",
    "        \n",
    "class IceCreamStand(Restaurant):\n",
    "    def __init__(self, name, cooking, flavor):\n",
    "        super().__init__(name, cooking)\n",
    "        self.flavor = flavor\n",
    "    def show_flavors(self):\n",
    "        print('我喜歡的口味: '+ str(self.flavor[0:]))"
   ]
  },
  {
   "cell_type": "code",
   "execution_count": 2,
   "metadata": {
    "collapsed": true
   },
   "outputs": [],
   "source": [
    "Ice = IceCreamStand('哈根達斯', 'iceCream', ['草莓', '巧克力'])"
   ]
  },
  {
   "cell_type": "code",
   "execution_count": 3,
   "metadata": {
    "collapsed": false
   },
   "outputs": [
    {
     "name": "stdout",
     "output_type": "stream",
     "text": [
      "餐廳名稱: 哈根達斯\n",
      "烹飪方式: iceCream\n"
     ]
    }
   ],
   "source": [
    "Ice.describe_restaurant()"
   ]
  },
  {
   "cell_type": "code",
   "execution_count": 4,
   "metadata": {
    "collapsed": false
   },
   "outputs": [
    {
     "name": "stdout",
     "output_type": "stream",
     "text": [
      "我喜歡的口味: ['草莓', '巧克力']\n"
     ]
    }
   ],
   "source": [
    "Ice.show_flavors()"
   ]
  },
  {
   "cell_type": "markdown",
   "metadata": {},
   "source": [
    "# Q2"
   ]
  },
  {
   "cell_type": "code",
   "execution_count": 6,
   "metadata": {
    "collapsed": false
   },
   "outputs": [],
   "source": [
    "class A(object):\n",
    "    def go(self):\n",
    "        print(\"go A go!\")\n",
    "    def stop(self):\n",
    "        print(\"stop A stop!\")\n",
    "    def pause(self):\n",
    "        raise Exception(\"Not Implemented\")\n",
    "\n",
    "class B(A):\n",
    "    def go(self):\n",
    "        super(B, self).go()\n",
    "        print(\"go B go!\")\n",
    "\n",
    "class C(A):\n",
    "    def go(self):\n",
    "        super(C, self).go()\n",
    "        print(\"go C go!\")\n",
    "    def stop(self):\n",
    "        super(C, self).stop()\n",
    "        print(\"stop C stop!\")\n",
    "\n",
    "class D(B,C):\n",
    "    def go(self):\n",
    "        super(D, self).go()\n",
    "        print(\"go D go!\")\n",
    "    def stop(self):\n",
    "        super(D, self).stop()\n",
    "        print(\"stop D stop!\")\n",
    "    def pause(self):\n",
    "        print(\"wait D wait!\")\n",
    "\n",
    "class E(B,C):\n",
    "    pass\n",
    "\n",
    "a = A()\n",
    "b = B()\n",
    "c = C()\n",
    "d = D()\n",
    "e = E()"
   ]
  },
  {
   "cell_type": "code",
   "execution_count": 9,
   "metadata": {
    "collapsed": false
   },
   "outputs": [
    {
     "name": "stdout",
     "output_type": "stream",
     "text": [
      "a\n",
      "go A go!\n",
      "b\n",
      "go A go!\n",
      "go B go!\n",
      "c\n",
      "go A go!\n",
      "go C go!\n",
      "d\n",
      "go A go!\n",
      "go C go!\n",
      "go B go!\n",
      "go D go!\n",
      "e\n",
      "go A go!\n",
      "go C go!\n",
      "go B go!\n"
     ]
    }
   ],
   "source": [
    "print(\"a\")\n",
    "a.go()\n",
    "print(\"b\")\n",
    "b.go()\n",
    "print(\"c\")\n",
    "c.go()\n",
    "print(\"d\")\n",
    "d.go()\n",
    "print(\"e\")\n",
    "e.go()"
   ]
  },
  {
   "cell_type": "code",
   "execution_count": 10,
   "metadata": {
    "collapsed": false
   },
   "outputs": [
    {
     "name": "stdout",
     "output_type": "stream",
     "text": [
      "a\n",
      "stop A stop!\n",
      "b\n",
      "stop A stop!\n",
      "c\n",
      "stop A stop!\n",
      "stop C stop!\n",
      "d\n",
      "stop A stop!\n",
      "stop C stop!\n",
      "stop D stop!\n",
      "e\n",
      "stop A stop!\n",
      "stop C stop!\n"
     ]
    }
   ],
   "source": [
    "print(\"a\")\n",
    "a.stop()\n",
    "print(\"b\")\n",
    "b.stop()\n",
    "print(\"c\")\n",
    "c.stop()\n",
    "print(\"d\")\n",
    "d.stop()\n",
    "print(\"e\")\n",
    "e.stop()"
   ]
  },
  {
   "cell_type": "code",
   "execution_count": 11,
   "metadata": {
    "collapsed": false
   },
   "outputs": [
    {
     "ename": "Exception",
     "evalue": "Not Implemented",
     "output_type": "error",
     "traceback": [
      "\u001b[0;31m---------------------------------------------------------------------------\u001b[0m",
      "\u001b[0;31mException\u001b[0m                                 Traceback (most recent call last)",
      "\u001b[0;32m<ipython-input-11-a91f7faae208>\u001b[0m in \u001b[0;36m<module>\u001b[0;34m()\u001b[0m\n\u001b[0;32m----> 1\u001b[0;31m \u001b[0ma\u001b[0m\u001b[0;34m.\u001b[0m\u001b[0mpause\u001b[0m\u001b[0;34m(\u001b[0m\u001b[0;34m)\u001b[0m\u001b[0;34m\u001b[0m\u001b[0m\n\u001b[0m",
      "\u001b[0;32m<ipython-input-6-807a1e1b3942>\u001b[0m in \u001b[0;36mpause\u001b[0;34m(self)\u001b[0m\n\u001b[1;32m      5\u001b[0m         \u001b[0mprint\u001b[0m\u001b[0;34m(\u001b[0m\u001b[0;34m\"stop A stop!\"\u001b[0m\u001b[0;34m)\u001b[0m\u001b[0;34m\u001b[0m\u001b[0m\n\u001b[1;32m      6\u001b[0m     \u001b[0;32mdef\u001b[0m \u001b[0mpause\u001b[0m\u001b[0;34m(\u001b[0m\u001b[0mself\u001b[0m\u001b[0;34m)\u001b[0m\u001b[0;34m:\u001b[0m\u001b[0;34m\u001b[0m\u001b[0m\n\u001b[0;32m----> 7\u001b[0;31m         \u001b[0;32mraise\u001b[0m \u001b[0mException\u001b[0m\u001b[0;34m(\u001b[0m\u001b[0;34m\"Not Implemented\"\u001b[0m\u001b[0;34m)\u001b[0m\u001b[0;34m\u001b[0m\u001b[0m\n\u001b[0m\u001b[1;32m      8\u001b[0m \u001b[0;34m\u001b[0m\u001b[0m\n\u001b[1;32m      9\u001b[0m \u001b[0;32mclass\u001b[0m \u001b[0mB\u001b[0m\u001b[0;34m(\u001b[0m\u001b[0mA\u001b[0m\u001b[0;34m)\u001b[0m\u001b[0;34m:\u001b[0m\u001b[0;34m\u001b[0m\u001b[0m\n",
      "\u001b[0;31mException\u001b[0m: Not Implemented"
     ]
    }
   ],
   "source": [
    "a.pause()"
   ]
  },
  {
   "cell_type": "code",
   "execution_count": 12,
   "metadata": {
    "collapsed": false
   },
   "outputs": [
    {
     "ename": "Exception",
     "evalue": "Not Implemented",
     "output_type": "error",
     "traceback": [
      "\u001b[0;31m---------------------------------------------------------------------------\u001b[0m",
      "\u001b[0;31mException\u001b[0m                                 Traceback (most recent call last)",
      "\u001b[0;32m<ipython-input-12-3350c7242d09>\u001b[0m in \u001b[0;36m<module>\u001b[0;34m()\u001b[0m\n\u001b[0;32m----> 1\u001b[0;31m \u001b[0mb\u001b[0m\u001b[0;34m.\u001b[0m\u001b[0mpause\u001b[0m\u001b[0;34m(\u001b[0m\u001b[0;34m)\u001b[0m\u001b[0;34m\u001b[0m\u001b[0m\n\u001b[0m\u001b[1;32m      2\u001b[0m \u001b[0mc\u001b[0m\u001b[0;34m.\u001b[0m\u001b[0mpause\u001b[0m\u001b[0;34m(\u001b[0m\u001b[0;34m)\u001b[0m\u001b[0;34m\u001b[0m\u001b[0m\n\u001b[1;32m      3\u001b[0m \u001b[0md\u001b[0m\u001b[0;34m.\u001b[0m\u001b[0mpause\u001b[0m\u001b[0;34m(\u001b[0m\u001b[0;34m)\u001b[0m\u001b[0;34m\u001b[0m\u001b[0m\n\u001b[1;32m      4\u001b[0m \u001b[0me\u001b[0m\u001b[0;34m.\u001b[0m\u001b[0mpause\u001b[0m\u001b[0;34m(\u001b[0m\u001b[0;34m)\u001b[0m\u001b[0;34m\u001b[0m\u001b[0m\n",
      "\u001b[0;32m<ipython-input-6-807a1e1b3942>\u001b[0m in \u001b[0;36mpause\u001b[0;34m(self)\u001b[0m\n\u001b[1;32m      5\u001b[0m         \u001b[0mprint\u001b[0m\u001b[0;34m(\u001b[0m\u001b[0;34m\"stop A stop!\"\u001b[0m\u001b[0;34m)\u001b[0m\u001b[0;34m\u001b[0m\u001b[0m\n\u001b[1;32m      6\u001b[0m     \u001b[0;32mdef\u001b[0m \u001b[0mpause\u001b[0m\u001b[0;34m(\u001b[0m\u001b[0mself\u001b[0m\u001b[0;34m)\u001b[0m\u001b[0;34m:\u001b[0m\u001b[0;34m\u001b[0m\u001b[0m\n\u001b[0;32m----> 7\u001b[0;31m         \u001b[0;32mraise\u001b[0m \u001b[0mException\u001b[0m\u001b[0;34m(\u001b[0m\u001b[0;34m\"Not Implemented\"\u001b[0m\u001b[0;34m)\u001b[0m\u001b[0;34m\u001b[0m\u001b[0m\n\u001b[0m\u001b[1;32m      8\u001b[0m \u001b[0;34m\u001b[0m\u001b[0m\n\u001b[1;32m      9\u001b[0m \u001b[0;32mclass\u001b[0m \u001b[0mB\u001b[0m\u001b[0;34m(\u001b[0m\u001b[0mA\u001b[0m\u001b[0;34m)\u001b[0m\u001b[0;34m:\u001b[0m\u001b[0;34m\u001b[0m\u001b[0m\n",
      "\u001b[0;31mException\u001b[0m: Not Implemented"
     ]
    }
   ],
   "source": [
    "b.pause()\n",
    "c.pause()\n",
    "d.pause()\n",
    "e.pause()"
   ]
  },
  {
   "cell_type": "code",
   "execution_count": null,
   "metadata": {
    "collapsed": true
   },
   "outputs": [],
   "source": []
  }
 ],
 "metadata": {
  "kernelspec": {
   "display_name": "Python 3",
   "language": "python",
   "name": "python3"
  },
  "language_info": {
   "codemirror_mode": {
    "name": "ipython",
    "version": 3
   },
   "file_extension": ".py",
   "mimetype": "text/x-python",
   "name": "python",
   "nbconvert_exporter": "python",
   "pygments_lexer": "ipython3",
   "version": "3.6.0"
  }
 },
 "nbformat": 4,
 "nbformat_minor": 2
}
