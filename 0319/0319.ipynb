{
 "cells": [
  {
   "cell_type": "code",
   "execution_count": 1,
   "metadata": {
    "collapsed": false
   },
   "outputs": [
    {
     "name": "stdout",
     "output_type": "stream",
     "text": [
      "請輸入數字: 12334009765\n",
      "True\n"
     ]
    }
   ],
   "source": [
    "#數字比對\n",
    "x = input(\"請輸入數字: \")\n",
    "print(not len(set(x))==len(x))"
   ]
  },
  {
   "cell_type": "code",
   "execution_count": 4,
   "metadata": {
    "collapsed": false
   },
   "outputs": [
    {
     "name": "stdout",
     "output_type": "stream",
     "text": [
      "1\n",
      "Wrong Number.\n",
      "34\n",
      "Wrong Number.\n",
      "8\n",
      "You got the lucky number!\n"
     ]
    }
   ],
   "source": [
    "#幸運數字\n",
    "while(input()!=\"8\"):\n",
    "    print(\"Wrong Number.\")\n",
    "print(\"You got the lucky number!\")"
   ]
  },
  {
   "cell_type": "code",
   "execution_count": 5,
   "metadata": {
    "collapsed": false
   },
   "outputs": [
    {
     "name": "stdout",
     "output_type": "stream",
     "text": [
      "1*1=1\n",
      "1*2=2\n",
      "1*3=3\n",
      "1*4=4\n",
      "1*5=5\n",
      "1*6=6\n",
      "1*7=7\n",
      "1*8=8\n",
      "1*9=9\n",
      "2*1=2\n",
      "2*2=4\n",
      "2*3=6\n",
      "2*4=8\n",
      "2*5=10\n",
      "2*6=12\n",
      "2*7=14\n",
      "2*8=16\n",
      "2*9=18\n",
      "3*1=3\n",
      "3*2=6\n",
      "3*3=9\n",
      "3*4=12\n",
      "3*5=15\n",
      "3*6=18\n",
      "3*7=21\n",
      "3*8=24\n",
      "3*9=27\n",
      "4*1=4\n",
      "4*2=8\n",
      "4*3=12\n",
      "4*4=16\n",
      "4*5=20\n",
      "4*6=24\n",
      "4*7=28\n",
      "4*8=32\n",
      "4*9=36\n",
      "5*1=5\n",
      "5*2=10\n",
      "5*3=15\n",
      "5*4=20\n",
      "5*5=25\n",
      "5*6=30\n",
      "5*7=35\n",
      "5*8=40\n",
      "5*9=45\n",
      "6*1=6\n",
      "6*2=12\n",
      "6*3=18\n",
      "6*4=24\n",
      "6*5=30\n",
      "6*6=36\n",
      "6*7=42\n",
      "6*8=48\n",
      "6*9=54\n",
      "7*1=7\n",
      "7*2=14\n",
      "7*3=21\n",
      "7*4=28\n",
      "7*5=35\n",
      "7*6=42\n",
      "7*7=49\n",
      "7*8=56\n",
      "7*9=63\n",
      "8*1=8\n",
      "8*2=16\n",
      "8*3=24\n",
      "8*4=32\n",
      "8*5=40\n",
      "8*6=48\n",
      "8*7=56\n",
      "8*8=64\n",
      "8*9=72\n",
      "9*1=9\n",
      "9*2=18\n",
      "9*3=27\n",
      "9*4=36\n",
      "9*5=45\n",
      "9*6=54\n",
      "9*7=63\n",
      "9*8=72\n",
      "9*9=81\n"
     ]
    }
   ],
   "source": [
    "#99乘法表（迴圈版）\n",
    "for i in range(1,10):\n",
    "    for j in range(1,10):\n",
    "        print(str(i)+\"*\"+str(j)+\"=\"+str(i*j))"
   ]
  },
  {
   "cell_type": "code",
   "execution_count": 6,
   "metadata": {
    "collapsed": false
   },
   "outputs": [
    {
     "name": "stdout",
     "output_type": "stream",
     "text": [
      "[1, 3, 5]\n"
     ]
    }
   ],
   "source": [
    "#1~6奇數\n",
    "a_list = [ ]\n",
    "for number in range(1,6): \n",
    "    if number % 2 == 1:\n",
    "        a_list.append(number)\n",
    "print(a_list)"
   ]
  },
  {
   "cell_type": "code",
   "execution_count": 7,
   "metadata": {
    "collapsed": false
   },
   "outputs": [
    {
     "name": "stdout",
     "output_type": "stream",
     "text": [
      "['1*1=1', '1*2=2', '1*3=3', '1*4=4', '1*5=5', '1*6=6', '1*7=7', '1*8=8', '1*9=9', '2*1=2', '2*2=4', '2*3=6', '2*4=8', '2*5=10', '2*6=12', '2*7=14', '2*8=16', '2*9=18', '3*1=3', '3*2=6', '3*3=9', '3*4=12', '3*5=15', '3*6=18', '3*7=21', '3*8=24', '3*9=27', '4*1=4', '4*2=8', '4*3=12', '4*4=16', '4*5=20', '4*6=24', '4*7=28', '4*8=32', '4*9=36', '5*1=5', '5*2=10', '5*3=15', '5*4=20', '5*5=25', '5*6=30', '5*7=35', '5*8=40', '5*9=45', '6*1=6', '6*2=12', '6*3=18', '6*4=24', '6*5=30', '6*6=36', '6*7=42', '6*8=48', '6*9=54', '7*1=7', '7*2=14', '7*3=21', '7*4=28', '7*5=35', '7*6=42', '7*7=49', '7*8=56', '7*9=63', '8*1=8', '8*2=16', '8*3=24', '8*4=32', '8*5=40', '8*6=48', '8*7=56', '8*8=64', '8*9=72', '9*1=9', '9*2=18', '9*3=27', '9*4=36', '9*5=45', '9*6=54', '9*7=63', '9*8=72', '9*9=81']\n"
     ]
    }
   ],
   "source": [
    "#99乘法表（生成式）\n",
    "print([str(i)+\"*\"+str(j)+\"=\"+str(i*j) for i in range(1, 10) for j in range(1, 10)])"
   ]
  },
  {
   "cell_type": "code",
   "execution_count": 8,
   "metadata": {
    "collapsed": false
   },
   "outputs": [
    {
     "name": "stdout",
     "output_type": "stream",
     "text": [
      "請輸入顏色：藍色\n",
      "鋼鐵人變成藍色小精靈也不錯\n"
     ]
    }
   ],
   "source": [
    "#自定義函式\n",
    "def iron_man_color(color):\n",
    "    if color == \"紅色\":\n",
    "        return(\"鋼鐵人盔甲是紅色的\") \n",
    "    elif color == \" 綠色\":\n",
    "        return(\"鋼鐵人其實也可以參考浩克的顏色\") \n",
    "    elif color == \"藍色\":\n",
    "        return(\"鋼鐵人變成藍色小精靈也不錯\") \n",
    "    else:\n",
    "        return(\"好像沒這種顏色\",color)\n",
    "\n",
    "print(iron_man_color(input(\"請輸入顏色：\")))"
   ]
  },
  {
   "cell_type": "code",
   "execution_count": 9,
   "metadata": {
    "collapsed": false
   },
   "outputs": [
    {
     "name": "stdout",
     "output_type": "stream",
     "text": [
      "第一個數字：2\n",
      "第二個數字：3\n",
      "請選擇+-*/：/\n",
      "2 / 3 = 0.6666666666666666\n"
     ]
    }
   ],
   "source": [
    "#計算機小程式\n",
    "def add(*num):\n",
    "    return sum(num)\n",
    "\n",
    "def substract(num1, num2):\n",
    "    return (num1-num2)\n",
    "\n",
    "def multiply(num1, num2):\n",
    "    return (num1*num2)\n",
    "\n",
    "def divide(num1, num2):\n",
    "    return (num1/num2)\n",
    "\n",
    "num1=int(input(\"第一個數字：\"))\n",
    "num2=int(input(\"第二個數字：\"))\n",
    "\n",
    "operator = input(\"請選擇+-*/：\")\n",
    "\n",
    "if operator == '+':\n",
    "   print(num1,\"+\",num2,\"=\", add(num1,num2))\n",
    "\n",
    "elif operator == '-':\n",
    "   print(num1,\"-\",num2,\"=\", subtract(num1,num2))\n",
    "\n",
    "elif operator == '*':\n",
    "   print(num1,\"*\",num2,\"=\", multiply(num1,num2))\n",
    "\n",
    "elif operator == '/':\n",
    "   print(num1,\"/\",num2,\"=\", divide(num1,num2))\n",
    "else:\n",
    "   print(\"invalid\")"
   ]
  },
  {
   "cell_type": "code",
   "execution_count": null,
   "metadata": {
    "collapsed": true
   },
   "outputs": [],
   "source": []
  }
 ],
 "metadata": {
  "kernelspec": {
   "display_name": "Python 3",
   "language": "python",
   "name": "python3"
  },
  "language_info": {
   "codemirror_mode": {
    "name": "ipython",
    "version": 3
   },
   "file_extension": ".py",
   "mimetype": "text/x-python",
   "name": "python",
   "nbconvert_exporter": "python",
   "pygments_lexer": "ipython3",
   "version": "3.6.0"
  }
 },
 "nbformat": 4,
 "nbformat_minor": 2
}
